{
 "cells": [
  {
   "cell_type": "markdown",
   "id": "a296acc2",
   "metadata": {},
   "source": [
    "# Tracé d'un diagramme de distribution en Python"
   ]
  },
  {
   "cell_type": "markdown",
   "id": "7f1dda8f",
   "metadata": {},
   "source": [
    "Dans cette activité, nous allons utiliser Python pour tracer le diagramme de distribution de l'acide cyanhydrique $HCN~ (aq) ~/~CN^- ~(aq)$ dont le $pKa$ est égal à 9,2.\n",
    "\n",
    "Un diagramme de distribution est le tracé du pourcentage d'acide (et de base) en fonction du pH. \\\n",
    "Dans le premier script ci-dessous, nous allons commencer par créer une liste de valeurs de pH allant de 0 à 14. \\\n",
    "✍️**Exécute le code ci-dessous**"
   ]
  },
  {
   "cell_type": "code",
   "execution_count": 14,
   "id": "bfc48fa8",
   "metadata": {},
   "outputs": [
    {
     "name": "stdout",
     "output_type": "stream",
     "text": [
      "La liste listepH contient 140 éléments : \n",
      "[ 0.   0.1  0.2  0.3  0.4  0.5  0.6  0.7  0.8  0.9  1.   1.1  1.2  1.3\n",
      "  1.4  1.5  1.6  1.7  1.8  1.9  2.   2.1  2.2  2.3  2.4  2.5  2.6  2.7\n",
      "  2.8  2.9  3.   3.1  3.2  3.3  3.4  3.5  3.6  3.7  3.8  3.9  4.   4.1\n",
      "  4.2  4.3  4.4  4.5  4.6  4.7  4.8  4.9  5.   5.1  5.2  5.3  5.4  5.5\n",
      "  5.6  5.7  5.8  5.9  6.   6.1  6.2  6.3  6.4  6.5  6.6  6.7  6.8  6.9\n",
      "  7.   7.1  7.2  7.3  7.4  7.5  7.6  7.7  7.8  7.9  8.   8.1  8.2  8.3\n",
      "  8.4  8.5  8.6  8.7  8.8  8.9  9.   9.1  9.2  9.3  9.4  9.5  9.6  9.7\n",
      "  9.8  9.9 10.  10.1 10.2 10.3 10.4 10.5 10.6 10.7 10.8 10.9 11.  11.1\n",
      " 11.2 11.3 11.4 11.5 11.6 11.7 11.8 11.9 12.  12.1 12.2 12.3 12.4 12.5\n",
      " 12.6 12.7 12.8 12.9 13.  13.1 13.2 13.3 13.4 13.5 13.6 13.7 13.8 13.9]\n"
     ]
    }
   ],
   "source": [
    "import numpy as np\n",
    "import matplotlib.pyplot as plt\n",
    "\n",
    "listepH = np.arange(0,14,0.1) #Liste de valeurs de pH de 0 à 14\n",
    "\n",
    "print(\"La liste listepH contient \" +str(np.size(listepH))+\" éléments : \")\n",
    "print(listepH)"
   ]
  },
  {
   "cell_type": "markdown",
   "id": "7e6c927c",
   "metadata": {},
   "source": [
    "On remarque bien que les valeurs de la liste ci-dessus vont de 0 à quasiment 14 (python s'arrête en réalité à 13,9) en augmentant de 0,1 entre deux valeurs successives. \\\n",
    "✍️**Modifie le code ci-dessus afin que les valeurs augmentent non plus de 0,1 en 0,1 mais de 0,2 en 0,2.** *Attention, en python, les nombres à virgules s'écrivent avec des points !*\\\n",
    "✍️**Rééxécute le code ci-dessus pour vérifier que ta modification a fonctionné.**"
   ]
  },
  {
   "cell_type": "markdown",
   "id": "4fa57567",
   "metadata": {},
   "source": [
    "A présent, pour chaque valeur de pH, nous allons calculer le pourcentage d'acide et le pourcentage de base. Le pourcentage d'acide est donné par la formule suivante :\\\n",
    "$$\n",
    "\\Large pourcentageAcide= \\frac{1}{1+10^{ pH-pKa}}\n",
    "$$\n",
    "\n",
    "✍️**Compléter le code ci-dessous :**\\\n",
    "*Indices :*\n",
    "- On rappelle que le pKa du couple acide base $HCN~ (aq) ~/~CN^- ~(aq)$ est égal à 9,2.\n",
    "- le nombre d'éléments dans listepH est donné dans le script ci-dessus. \n",
    "- Ne pas oublié les parenthèses lorsque vous écrivez une formule avec des fractions\n",
    "- En python, $10^{a+b}$ s'écrit <code>10**(a+b)</code>.\n",
    "- Lorsque l'on connait la valeur du pourcentage d'acide, il est facile de calculer la valeur du pourcentage de base car : $pourcentageAcide+pourcentageBase = 1$"
   ]
  },
  {
   "cell_type": "code",
   "execution_count": null,
   "id": "3f6abcc3",
   "metadata": {
    "scrolled": true
   },
   "outputs": [],
   "source": [
    "listePourcentageAcide = [] #Liste vide qui contiendra les valeurs des pourcentages d'acide pour chaque valeurs de pH\n",
    "listePourcentageBase  = [] #Liste vide qui contiendra les valeurs des pourcentages de base pour chaque valeurs de pH\n",
    "pKa = ...A COMPLETER... #valeur du pKa\n",
    "\n",
    "for k in range(...A COMPLETER...):  # Pour chaque valeur de pH dans la liste, \n",
    "                                    # on va calculer les pourcentages d'acide et de base\n",
    "    pH = ...A COMPLETER...  #prendre le kème élément de listepH\n",
    "    \n",
    "    pourcentageAcide = ...A COMPLETER...  #Calcul du pourcentage d'acide pour la valeur de pH ci-dessus\n",
    "    pourcentageBase  = ...A COMPLETER...  #Calcul du pourcentage de base pour la valeur de pH ci-dessus. \n",
    "    \n",
    "    listePourcentageAcide.append(pourcentageAcide) #Ajout de la valeur pourcentageAcide à la liste\n",
    "    listePourcentageBase.append(pourcentageBase)   #Ajout de la valeur pourcentageBase  à la liste\n",
    "\n",
    "# Tracé du diagramme de distribution (Ne pas modifier cette partie)\n",
    "plt.plot(listepH,listePourcentageAcide,label=\"Pourcentage d'acide\") #Tracé du pourcentage d'acide en fonction du pH\n",
    "plt.plot(listepH,listePourcentageBase, label=\" Pourcentage de base\") #Tracé du pourcentage de base en fonction du pH\n",
    "plt.title(\"Diagramme de distribution du couple $HCN/CN^-$\") # Titre du graphique\n",
    "plt.legend() #Légende du graphique\n",
    "plt.grid()   # Ajout de la grille\n",
    "plt.show()   # Affichage à l'écran du graphique"
   ]
  },
  {
   "cell_type": "markdown",
   "id": "0f0da2b2",
   "metadata": {},
   "source": [
    "# Bravo ! Mission accomplie\n",
    "<a href=\"https://ibb.co/w74TZF8\"><img src=\"https://i.ibb.co/w74TZF8/2023-07-18-09-40-18-Le-LIVRE-DE-LA-JUNGLE-Shere-Khan-le-Tigre-et-le-Serpent-Kaa-dans-le-dessin-an.png\" alt=\"2023-07-18-09-40-18-Le-LIVRE-DE-LA-JUNGLE-Shere-Khan-le-Tigre-et-le-Serpent-Kaa-dans-le-dessin-an\" border=\"0\"></a>"
   ]
  }
 ],
 "metadata": {
  "kernelspec": {
   "display_name": "Python 3 (ipykernel)",
   "language": "python",
   "name": "python3"
  },
  "language_info": {
   "codemirror_mode": {
    "name": "ipython",
    "version": 3
   },
   "file_extension": ".py",
   "mimetype": "text/x-python",
   "name": "python",
   "nbconvert_exporter": "python",
   "pygments_lexer": "ipython3",
   "version": "3.9.12"
  }
 },
 "nbformat": 4,
 "nbformat_minor": 5
}
